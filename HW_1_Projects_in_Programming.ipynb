{
  "nbformat": 4,
  "nbformat_minor": 0,
  "metadata": {
    "colab": {
      "provenance": [],
      "authorship_tag": "ABX9TyNmHfM4UBY/wb+14DSYG2KB",
      "include_colab_link": true
    },
    "kernelspec": {
      "name": "python3",
      "display_name": "Python 3"
    },
    "language_info": {
      "name": "python"
    }
  },
  "cells": [
    {
      "cell_type": "markdown",
      "metadata": {
        "id": "view-in-github",
        "colab_type": "text"
      },
      "source": [
        "<a href=\"https://colab.research.google.com/github/katehegland/Projects/blob/main/HW_1_Projects_in_Programming.ipynb\" target=\"_parent\"><img src=\"https://colab.research.google.com/assets/colab-badge.svg\" alt=\"Open In Colab\"/></a>"
      ]
    },
    {
      "cell_type": "code",
      "execution_count": 1,
      "metadata": {
        "colab": {
          "base_uri": "https://localhost:8080/"
        },
        "id": "fNovFOOmzweC",
        "outputId": "70b56937-b0d7-4492-dbb9-3a275e06214c"
      },
      "outputs": [
        {
          "output_type": "stream",
          "name": "stdout",
          "text": [
            "Quote of the Day: Without this playing with fantasy no creative work has ever yet come to birth. The debt we owe to the play of the imagination is incalculable. Author: Carl Jung\n",
            "\n",
            "Cat Fact of the Day: Most cats adore sardines.\n",
            "\n"
          ]
        }
      ],
      "source": [
        "import json #allows your code to interpret the json language used commonly in APIs\n",
        "import requests #allows your code to make http requests\n",
        "from bs4 import BeautifulSoup #a library in bs4 that we imported to clean the \"<p>\" output in the quote of the day\n",
        "\n",
        "def get_random_quote(): #we wanted the code to output a different quote each time it was run\n",
        "    quote_api_url = \"https://api.quotable.io/random\" #assigning a variable to the quotes link\n",
        "    response = requests.get(quote_api_url) #assigning the variable \"response\" to the command that uses the requests library (for HTTP requests) and .get() to retrieve data from the API.\n",
        "    if response.status_code == 200: #if the response status code is 200 the request is successful\n",
        "        quote_data = response.json() #assigns a variable to the command that transforms the json response into a python dictionary\n",
        "        quote_text = quote_data['content'].strip() #assigns a variable to the request for the quote from the dictionary and .strip() removes any formatting discrepencies\n",
        "        quote_author = quote_data['author'].strip() #assigns a variable to the request for the author from the dictionary and .strip() removes any formatting discrepencies\n",
        "        return f\"Quote of the Day: {quote_text} Author: {quote_author}\\n\" #formats the sentence output using f\"\"\n",
        "    else: #an output if the function fails\n",
        "        return \"Failed to retrieve a quote\"\n",
        "\n",
        "def get_random_cat_fact(): #we wanted the code to output a different cat fact each time it was run\n",
        "    cat_facts_api_url = \"https://catfact.ninja/fact\" #assigning a variable to the cat facts link\n",
        "    response = requests.get(cat_facts_api_url) #assigning the variable \"response\" to the command that uses the requests library (for HTTP requests) and .get() to retrieve data from the API.\n",
        "    if response.status_code == 200: #if the response status code is 200 the request is successful\n",
        "        cat_fact_data = response.json() #assigns a variable to the command that transforms the json response into a python dictionary\n",
        "        cat_fact = cat_fact_data['fact'].strip() #assigns a variable to the request for the cat fact from the dictionary and .strip() removes any formatting discrepencies\n",
        "        return f\"Cat Fact of the Day: {cat_fact}\\n\" #formats the sentence output using f\"\"\n",
        "    else: #an output if the function fails\n",
        "        return \"Failed to retrieve a cat fact\"\n",
        "\n",
        "print(get_random_quote()) #print the random quote of the day\n",
        "print(get_random_cat_fact()) #print the random cat fact of the day"
      ]
    },
    {
      "cell_type": "markdown",
      "source": [
        "Our selected APIs are:\n",
        "\n",
        "1.   Quote generator: https://quotesondesign.com/wp-json/wp/v2/posts/?orderby=rand\n",
        "\n",
        "2.   Cat facts: https://cat-fact.herokuapp.com/facts\n",
        "\n",
        "\n",
        "Logic:\n",
        "We wanted to create a feature that would give you a random cat fact and quote each day.\n"
      ],
      "metadata": {
        "id": "cYHoYZP_0yrK"
      }
    }
  ]
}